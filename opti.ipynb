{
 "cells": [
  {
   "cell_type": "code",
   "execution_count": 1,
   "metadata": {},
   "outputs": [],
   "source": [
    "import numpy as np\n",
    "import matplotlib.pyplot as plt"
   ]
  },
  {
   "cell_type": "markdown",
   "metadata": {},
   "source": [
    "### Definition du problème\n",
    "Soit $\\begin{array}{ccccc}\n",
    "g & : & (\\R^3)^n & \\to & R \\\\\n",
    " & & (p_1, ..., p_n) & \\mapsto &  \\sum_i {\\lVert p_{i+1} - R_i\\Delta_{i,j}p - p_i\\rVert^2} + \\gamma \\sum_{i,j} {\\lVert p_{i} - R_j \\Delta_{i,j}p- p_j\\rVert^2} \\\\\n",
    "\\end{array}$\n",
    "Avec la notation :$$ \\forall i \\in [1,n], p_i = \\begin{pmatrix}\n",
    "x_i \\\\[3mm]\n",
    "y_i \\\\[3mm]\n",
    "\\theta_i \\\\\n",
    "\\end{pmatrix}$$\n",
    "on peut définir la fonction $f$ par:\n",
    "$\\begin{array}{ccccc}\n",
    "g & : & (\\R)^{3n} & \\to & R \\\\\n",
    " & & (x_1,...,x_n,y_1,..., y_n, \\theta_1,..., \\theta_n) & \\mapsto &  \\sum_i {\\lVert p_{i} - R_j \\Delta_{i,j}p- p_j\\rVert^2} + \\gamma \\sum_{i,j} {\\lVert p_{i} - R_j \\Delta_{i,j}p- p_j\\rVert^2} \\\\\n",
    "\\end{array}$\n",
    "On notera $(e_i)_{i \\in [1,3]}$ la base canonique de $\\R^3$ et $(b_i)_{i \\in [1,3n]}$ celle de $R^{3n}$\n",
    "Ainsi, en définissant l'isomorphisme $h$ par:\n",
    "$\\begin{array}{ccccc}\n",
    "h & : & (\\R^3)^n & \\to &(\\R)^{3n} \\\\\n",
    " & & x & \\mapsto & \\sum_i {\\sum_j {(x \\cdot e_j) b_{nj + i}}} \\\\\n",
    "\\end{array}$, c'est à dire l'isomorphisme vérifiant, avec les notations précédentes $$\\forall (p_1, ..., p_n) \\in (\\R^3)^n, h(p_1, ..., p_n) = (x_1,...,x_n,y_1,..., y_n, \\theta_1,..., \\theta_n) $$, on a ainsi:\n",
    "$$ g = f \\circ h$$\n",
    "Minimiser g revient donc, à l'isomorphisme h près, à minimiser f.\n",
    "On s'intéressera par la suite préférentiellement à la fonction f, car la forme de son argument s'inscrit mieux dans le cadre du cours, et on pourra calculer son gradient.\n",
    "\n",
    "\n"
   ]
  },
  {
   "cell_type": "markdown",
   "metadata": {},
   "source": [
    "## Contraintes:\n",
    "Intéressons nous maintenant aux contraintes. \n",
    "Les contraintes du problèmes sont :\n",
    "$$\\forall i \\in [1,n], \\left\\{   \\begin{array}{ll}\n",
    "        \\theta_i - \\frac {pi}{2} <0 \\\\\n",
    "        -\\theta_i - \\frac {pi}{2}<0\n",
    "    \\end{array}\n",
    "\\right.$$\n",
    "On définit les fonctions $c_{i,k}$ par, avec les notations précédentes,\n",
    "$$\\forall i,k \\in [1,n] x [0,1], \\forall z \\in \\R^{3n},  c_{i,k}(z) = (z \\cdot b_{2n + i}) - \\frac {pi}{2}$$\n",
    "On peut alors définir le vecteur de fonctions $c$ tel que :\n",
    "$$c = \\begin {pmatrix}\n",
    "    c_{1,0} \\\\\n",
    "    c_{1,1} \\\\\n",
    "    ... \\\\\n",
    "    c_{n,0} \\\\\n",
    "    c_{n,1} \n",
    "\n",
    "    \\end {pmatrix}$$\n",
    "Les contraintes se réecrivent donc mathématiquement par : $$c(z) <0$$\n"
   ]
  },
  {
   "cell_type": "markdown",
   "metadata": {},
   "source": [
    "On va donc rechercher la solution du problème d'optimisation sous contraintes:\n",
    "$$\\left\\{\n",
    " \\begin {array}{ll}\n",
    " \\min_{z \\in R^{3n}} \\\\\n",
    " c(z) < 0\n",
    " \\end {array}\n",
    " \\right.$$"
   ]
  },
  {
   "cell_type": "markdown",
   "metadata": {},
   "source": [
    "## Etude de la convexité des fonctions:\n",
    "On va étudier d'abord la fonction $f$.\n",
    "On définit:\n",
    "$$\\forall i,z \\in [1,n] * \\R^{3n}, \n",
    "\\begin{array}{ccccc}\n",
    "k_j & : & (\\R^3) & \\to & R \\\\\n",
    " & & (x_i, y_i,\\theta_i) & \\mapsto &  \\lVert p_{i} -\\R_j \\Delta_{i,j}p -  p_j\\rVert\\\\^2\n",
    "\\end{array} $$\n",
    "et\n",
    " $$\\forall i,z \\in [1,n] * \\R^{3n}, \n",
    "\\begin{array}{ccccc}\n",
    "l_j & : & (\\R^3) & \\to & R \\\\\n",
    " & & (x_i,y_i,\\theta_i) & \\mapsto &  \\lVert p_{j} -\\R_i \\Delta_{i,j}p -  p_i\\\\^2 \n",
    "\\end{array} $$\n",
    "Alors, en tant que composée de fonctions usuelles, $k_i$ et $l_i$ sont différentiables infiniment partout.\n",
    "De plus, en mettant cette fonction sous la forme d'un produit scalaire, on s'aperçoit que, partout où elle est définie.\n",
    "$$\\frac {\\partial k_j}{\\partial x_i} =2p_i-(2R_i\\Delta_{i,j}p+p_j) \\cdot e_1$$ \n",
    "$$\\frac {\\partial k_j}{\\partial y_i} =2p_i-(2R_i\\Delta_{i,j}p+p_j) \\cdot e_2  $$\n",
    "$$\\frac {\\partial k_j}{\\partial \\theta_i} =2p_i-(2R_i\\Delta_{i,j}p+p_j) \\cdot e_3 $$\n",
    "Et, comme $B_j$ ne dépend que de $\\theta_j$ par construction:\n",
    "$$\\frac {\\partial l_j}{\\partial x_i} =2p_i+ 2R_i\\Delta_{i,j}p-p_j \\cdot e_1 $$\n",
    "$$\\frac {\\partial l_j}{\\partial y_i} =2p_i+2R_i\\Delta_{i,j}p+p_j \\cdot e_2 $$\n",
    "$$\\frac {\\partial l_j}{\\partial \\theta_i}  = 2 p_i \\cdot e_3 +  \\frac {\\partial p_i^t}{\\partial \\theta_i}(p_j - R_i\\Delta_{i,j}p + p_i^t\\frac {\\partial p_j - R_i\\Delta_{i,j}p }{\\partial \\theta_i} ) $$\n",
    "D'ou, en notant $$\\dot B = \\frac {\\partial R_i}{\\partial \\theta_i} = \\left( \\begin{matrix}\n",
    "                                                                     -sin(\\theta_i) & -cos(\\theta_i) & 0\\\\\n",
    "                                                                     cos(\\theta_i) & -sin(\\theta_i)& 0\\\\\n",
    "                                                                     0& 0& 0\\\\\n",
    "                                                                     \\end{matrix}\n",
    "                                                                     \\right)$$\n",
    "On a finalement:\n",
    "$$\\frac {\\partial l_j}{\\partial \\theta_i} = 2 p_j \\cdot e_3 + 2 *(R_i\\Delta_{i,j}p- p_j)\\cdot e_3   + p_i^t \\dot R_i\\Delta_{i,j}p $$\n",
    "                                                        \n",
    "\n",
    "\n",
    "Intéressons nous maintenant aux contraintes.\n",
    "Soit $i,k \\in [1,n] * [0,1]$\n",
    "$$c_{i,k}$$\n",
    " est évidemment convexe, puisque elle est deux fois différentiable et que sa hessienne est nulle partout.\n",
    "Donc, le vecteur  des contrainte $c$ est bien convexe.\n",
    "De plus, en évaluant c en 0, on se rend compte que $$c(0)<0$$, car $- \\frac {\\pi}{2} < 0 < \\frac {\\pi}{2}$ \n",
    "\n",
    "\n"
   ]
  },
  {
   "cell_type": "markdown",
   "metadata": {},
   "source": [
    "### Existence du minimum:\n",
    "On peut se ramener à l'existence du minimum car l'ensemble des poses internes au bureau constituent un ensemble fermé et borné, inclu dans un espace de dimension fini. L'ensemble $[-\\pi/2, \\pi/2]$ étant compact, l'ensemble des poses vérifiant les contraintes dans le bureau est donc compact\n",
    "Donc, f étant continue, on a bien l'existence d'un minimum à notre problème.\n",
    "Si l'on arrivait à prouver que f est alpha convexe, comme les contraintes sont convexes, on pourrait montrer l'unicité su minimum."
   ]
  },
  {
   "cell_type": "markdown",
   "metadata": {},
   "source": [
    "### Calcul du gradient\n",
    "f est, d'après les fonctions usuelles et en observant sa forme de produit scalaire, est différentiable infiniment sur tout $R^{3n}$\n",
    "Nous allons donc calculer son gradient. \n",
    "On notera les variables $x_i,y_i,\\theta_i$.\n",
    "Alors: soit $i \\in [1,n]$\n",
    "$x_i$ n'intervient que dans deux des termes de la première somme, plus éventuellement dans des termes de  boucle.\n",
    "Donc, en notant $$ L_1 = \\left\\{ (i,k), k\\in [1,n] t.q (i,k)\\in L \\right\\} $$ et $$ L_2 = \\left\\{ (k,i), k\\in [1,n] t.q (k,i)\\in L \\right\\}$$, on a :\n",
    "$$\\frac {\\partial f}{\\partial x_i}(z) = \\frac {\\partial (k_{i-1} + l_{i+1} + \\gamma (\\sum_{j \\in L_1} {k_j}+ \\sum_{j \\in L_2} {l_j}))}{\\partial x_i} $$\n",
    "D'après ce qui précède, on a :\n",
    "$\\frac {\\partial f}{\\partial x_i}(z) = \n",
    "2p_i-(2R_i\\Delta_{i,i-1}p+p_{i-1}) \\cdot e_1 + 2p_i+ 2R_i\\Delta_{i,i+1}p-p_{i+1} \\cdot e_1+ \\gamma \\sum_{j \\in L_1}{2p_i-(2R_i\\Delta_{i,j}p+p_j)\\cdot e1} + \\gamma \\sum_{j \\in L_1}{2p_i+ 2R_i\\Delta_{i,j}p-p_j \\cdot e_1}  $\n",
    "$\\frac {\\partial f}{\\partial y_i}(z) = \n",
    "2p_i-(2R_i\\Delta_{i,i-1}p+p_{i-1}) \\cdot e_2 + 2p_i+ 2R_i\\Delta_{i,i+1}p-p_{i+1} \\cdot e_2 + \\gamma \\sum_{j \\in L_1}{2p_i-(2R_i\\Delta_{i,j}p+p_j)\\cdot e2} + \\gamma \\sum_{j \\in L_1}{2p_i+ 2R_i\\Delta_{i,j}p-p_j \\cdot e2}  $\n",
    "$$\\frac {\\partial f}{\\partial \\theta_i}(z) = \n",
    "2p_i-(2R_i\\Delta_{i,i-1}p+p_{i-1}) \\cdot e_3 +  2 p_j \\cdot e_3 + 2 *(R_i\\Delta_{i,i+1}p- p_{i+1})\\cdot e_3   + p_i^t \\dot R_i\\Delta_{i,j}p +\n",
    " \\gamma \\sum_{j \\in L_1}{2p_i-(2R_i\\Delta_{i,j}p+p_{j}) \\cdot e_3} \n",
    " + \\gamma \\sum_{j \\in L_1}{ 2 p_j \\cdot e_3 + 2 *(R_i\\Delta_{i,j}p- p_j)\\cdot e_3   + p_i^t \\dot R_i\\Delta_{i,j}p} $$\n",
    " On a donc accès au gradient de f, qui s'écrit par définition:\n",
    "$$\\nabla f = \\begin {pmatrix}\n",
    "               \\frac {\\partial f}{\\partial x_1} \\\\\n",
    "               ...\\\\\n",
    "               \\frac {\\partial f}{\\partial x_n} \\\\\n",
    "               \\frac {\\partial f}{\\partial y_1}\\\\\n",
    "               ...\\\\\n",
    "               \\frac {\\partial f}{\\partial y_n}\\\\\n",
    "               \\frac {\\partial f}{\\partial \\theta_1}\\\\\n",
    "               ...\\\\\n",
    "               \\frac {\\partial f}{\\partial \\theta_n}\n",
    "               \\end{pmatrix}\n",
    "               $$\n",
    "\n",
    "Le gradient des contraintes $c_{i,k}$ s'écrit quand à lui:\n",
    "$$\\nabla c_{i,k} = (-1)^k b_{2n+i}$$\n",
    ", ou la base b a été définie précédemment comme la base canonique de $R^{3n}$\n",
    "\n",
    "\n",
    "\n",
    "\n",
    "\n",
    "\n"
   ]
  },
  {
   "cell_type": "markdown",
   "metadata": {},
   "source": [
    "Nous avons ainsi toutes les conditions réunies pour appliquer l'algorithme d'Arrow-Hurwicz.\n",
    "\n"
   ]
  },
  {
   "cell_type": "code",
   "execution_count": 838,
   "metadata": {},
   "outputs": [],
   "source": [
    "#Récupération des données:\n",
    "liste_delta_pi_odo = []\n",
    "dico_delta_pi_boucle = {}\n",
    "fichier = open('INTEL.txt')\n",
    "lines = fichier.readlines()\n",
    "for line in lines:\n",
    "        line = line.split(' ')\n",
    "        categorie = line[0]\n",
    "        i = int(line[1])\n",
    "        i_suivant = int(line[2])\n",
    "        dx = float(line[3])\n",
    "        dy = float(line[4])\n",
    "        dtheta = float(line[5]) \n",
    "        odo = np.array((dx, dy, dtheta))\n",
    "\n",
    "        if categorie == 'EDGE_ODO':\n",
    "            liste_delta_pi_odo.append(odo)\n",
    "        else :\n",
    "            dico_delta_pi_boucle[str(i) + '->' + str(i_suivant)] = odo\n",
    "             \n",
    "\n",
    "    "
   ]
  },
  {
   "cell_type": "code",
   "execution_count": 839,
   "metadata": {},
   "outputs": [],
   "source": [
    "def construire_Ri(p):\n",
    "    theta = p[2]\n",
    "    cos_theta = np.cos(theta)\n",
    "    sin_theta = np.sin(theta)\n",
    "    Ri = np.array([cos_theta, -sin_theta, 0, sin_theta, cos_theta, 0, 0,0,1])\n",
    "    Ri = Ri.reshape(3,3)\n",
    "    return Ri\n"
   ]
  },
  {
   "cell_type": "code",
   "execution_count": 840,
   "metadata": {},
   "outputs": [],
   "source": [
    "def construire_Ri_point(p):\n",
    "    theta = p[2]\n",
    "    cos_theta = np.cos(theta)\n",
    "    sin_theta = np.sin(theta)\n",
    "    Ri = np.array([-sin_theta, -cos_theta, 0,cos_theta, -sin_theta, 0, 0,0,1])\n",
    "    Ri = Ri.reshape(3,3)\n",
    "    return Ri\n"
   ]
  },
  {
   "cell_type": "code",
   "execution_count": 841,
   "metadata": {},
   "outputs": [],
   "source": [
    "def premiere_estimation_odo(liste_delta_pi_odo):\n",
    "    n = len(liste_delta_pi_odo)\n",
    "    p0 = np.array( (0, 0, 0) )\n",
    "    listes_p = [p0]\n",
    "    for i in range(n):\n",
    "        p_prec = listes_p[-1]\n",
    "        Ri = construire_Ri(p_prec)\n",
    "        p_suiv = p_prec + Ri.dot(liste_delta_pi_odo[i])\n",
    "        listes_p.append(p_suiv)\n",
    "    return np.array(listes_p)"
   ]
  },
  {
   "cell_type": "code",
   "execution_count": 842,
   "metadata": {},
   "outputs": [],
   "source": [
    "liste_poses_1 = premiere_estimation_odo(liste_delta_pi_odo)"
   ]
  },
  {
   "cell_type": "code",
   "execution_count": 843,
   "metadata": {},
   "outputs": [
    {
     "data": {
      "text/plain": [
       "Text(0, 0.5, 'y')"
      ]
     },
     "execution_count": 843,
     "metadata": {},
     "output_type": "execute_result"
    },
    {
     "data": {
      "image/png": "[encoded data removed]",
      "text/plain": [
       "<Figure size 432x288 with 1 Axes>"
      ]
     },
     "metadata": {
      "needs_background": "light"
     },
     "output_type": "display_data"
    }
   ],
   "source": [
    "#affichage\n",
    "x = liste_poses_1[:,0]\n",
    "y = liste_poses_1[:,1]\n",
    "plt.plot(x,y)\n",
    "plt.xlabel('x')\n",
    "plt.ylabel('y')"
   ]
  },
  {
   "cell_type": "markdown",
   "metadata": {},
   "source": [
    "On remarque que l'on parvient bien à une image qui ressemble vaguement aux bureaux d'Intel, mais qui manque de précision. Il va donc nous falloir corriger cela grâce aux données de bouclage et à l'utilisation d'algorithmes d'optimisation."
   ]
  },
  {
   "cell_type": "code",
   "execution_count": 844,
   "metadata": {},
   "outputs": [],
   "source": [
    "def construire_p_i(z,i):\n",
    "    n = len(z)//3\n",
    "    return np.array([z[i-1], z[i+n-1], z[i+2*n-1]])"
   ]
  },
  {
   "cell_type": "code",
   "execution_count": 845,
   "metadata": {},
   "outputs": [],
   "source": [
    "def gradient_k(z,i,j, delta_i_j):\n",
    "    p_i = construire_p_i(z,i)\n",
    "    \n",
    "    p_j = construire_p_i(z,j)\n",
    "    R_j = construire_Ri(p_j)\n",
    "   \n",
    "    res = 2*p_i - 2*np.dot(R_j, delta_i_j) - 2*p_j\n",
    "    return res\n",
    "    \n",
    "\n",
    "    \n"
   ]
  },
  {
   "cell_type": "code",
   "execution_count": 846,
   "metadata": {},
   "outputs": [],
   "source": [
    "def gradient_l(z,i,j, delta_i_j):\n",
    "    p_i = construire_p_i(z,i)\n",
    "    p_j = construire_p_i(z,j)\n",
    "    R_i = construire_Ri(p_i) \n",
    "   \n",
    "    R_i_point = construire_Ri_point(p_i) \n",
    "    res  =  2*p_i + 2*np.dot(R_i, delta_i_j) - 2*p_j\n",
    "\n",
    "    \n",
    "\n",
    "    d_dteta = 2* p_i[2] + (-p_i + np.dot(R_i, delta_i_j))[2]\n",
    "    d_dteta += 2 * (np.dot(p_i, np.dot(R_i_point, delta_i_j)) )\n",
    "    res[2] = d_dteta\n",
    "    return res\n",
    "\n",
    "\n",
    "    \n",
    "\n",
    "    \n"
   ]
  },
  {
   "cell_type": "code",
   "execution_count": 847,
   "metadata": {},
   "outputs": [],
   "source": [
    "def gradient_f(z, E):\n",
    "    n = len(z)//3\n",
    "    res = np.zeros(3*n)\n",
    "    #cas i=0:\n",
    "    delta_i_j = E[0][2]\n",
    "    d_di =  gradient_l(z, 1, 0, delta_i_j) \n",
    "    for (i,j, delta_i_j) in E:\n",
    "            d_di = gradient_k(z, i, j, delta_i_j)  \n",
    "            res[i-1] += d_di[0]\n",
    "            res[i+n-1] += d_di[1]\n",
    "            res[i+2*n-1] += d_di[2]\n",
    "\n",
    "            d_dj = gradient_l(z, i, j, delta_i_j)  \n",
    "            res[j-1] += d_dj[0]\n",
    "            res[j+n-1] += d_dj[1]\n",
    "            res[j+2*n-1] += d_dj[2]\n",
    "\n",
    "    for i in range (1,n-2):\n",
    "        delta_i_j = E[i][2]\n",
    "        d_di = gradient_k(z, i, i-1, delta_i_j) + gradient_l(z, i+1, i, delta_i_j) \n",
    "        res[i-1] = d_di[0]\n",
    "        res[i+n-1] = d_di[1]\n",
    "        res[i+2*n-1] = d_di[2]\n",
    "    #cas i = n-1\n",
    "    delta_i_j = E[n-1][2]\n",
    "    d_di = gradient_k(z, n, n-1, delta_i_j) \n",
    "\n",
    "    \n",
    "    return res\n",
    "\n",
    "        \n",
    "       \n",
    "        \n",
    "\n",
    "    "
   ]
  },
  {
   "cell_type": "code",
   "execution_count": 848,
   "metadata": {},
   "outputs": [],
   "source": [
    "def gradient_c(z):\n",
    "    n = len(z) // 3\n",
    "    l = []\n",
    "    for i in range(n-1):\n",
    "        grad_c_i = np.zeros(3*n)\n",
    "        grad_c_i[2*n + i] = 1\n",
    "        l.append(grad_c_i)\n",
    "        l.append(-grad_c_i)\n",
    "    return np.transpose(np.array(l))\n"
   ]
  },
  {
   "cell_type": "code",
   "execution_count": 849,
   "metadata": {},
   "outputs": [],
   "source": [
    "def projection_R_plus(vecteur):\n",
    "    return [max(u,0) for u in vecteur]"
   ]
  },
  {
   "cell_type": "code",
   "execution_count": 850,
   "metadata": {},
   "outputs": [],
   "source": [
    "def c(z):\n",
    "    n = len(z) // 3\n",
    "    l = np.zeros(2*n-2)\n",
    "    for i in range(n):\n",
    "        l[i] = z[2*n+i]* (-1)**(i% 2)- np.pi/2\n",
    "    return l"
   ]
  },
  {
   "cell_type": "code",
   "execution_count": 867,
   "metadata": {},
   "outputs": [],
   "source": [
    "def Arrow(z0, liste_delta_pi_odo, dico_delta_pi_boucle, seuil= 0.5, epsilon = 0.05,  pasmax = 20, alpha = 0.05):\n",
    "    n = len(liste_delta_pi_odo)\n",
    "    l = np.array([0.5 for i in range (3*n)])\n",
    "    grad = seuil +1\n",
    "    z = z0\n",
    "    _lambda = np.zeros(2*n)\n",
    "    nombrepas = 0\n",
    "    E = construire_E(liste_delta_pi_odo, dico_delta_pi_boucle)\n",
    "\n",
    "    while np.linalg.norm(grad)> seuil and nombrepas < pasmax:\n",
    "        temp =  np.dot(gradient_c(z), _lambda)\n",
    "        grad = gradient_f(z, E)\n",
    "        z = z -epsilon * (grad + temp   )\n",
    "        _lambda = projection_R_plus(_lambda + alpha * c(z))\n",
    "        nombrepas +=1\n",
    "        print(nombrepas)\n",
    "    return z     \n",
    "\n",
    "        \n",
    "\n"
   ]
  },
  {
   "cell_type": "code",
   "execution_count": 868,
   "metadata": {},
   "outputs": [
    {
     "name": "stdout",
     "output_type": "stream",
     "text": [
      "0.6960161188160643\n",
      "(3684,)\n",
      "1\n",
      "2\n",
      "3\n",
      "4\n",
      "5\n",
      "6\n",
      "7\n",
      "8\n",
      "9\n",
      "10\n",
      "11\n",
      "12\n",
      "13\n",
      "14\n",
      "15\n",
      "16\n",
      "17\n",
      "18\n",
      "19\n",
      "20\n"
     ]
    }
   ],
   "source": [
    "z0 = h(liste_poses_1)\n",
    "print(z0[5])\n",
    "z0 = np.transpose(z0)\n",
    "print(z0.shape)\n",
    "listes_poses_2 = Arrow(z0, liste_delta_pi_odo, dico_delta_pi_boucle, 0.1)"
   ]
  },
  {
   "cell_type": "code",
   "execution_count": 869,
   "metadata": {},
   "outputs": [],
   "source": [
    "def h(liste_pi):#la fonction h définie dans la première partie qui permet le passage entre R(3n) et (R(3))(n)\n",
    "    n = len(liste_pi)\n",
    "    z = np.zeros(3*n)\n",
    "    for i in range (n):\n",
    "        z[i] = liste_pi[i][0]\n",
    "        z[n+i] = liste_pi[i][1]\n",
    "        z[2*n+i] = liste_pi[i][2]\n",
    "    return z\n",
    "\n"
   ]
  },
  {
   "cell_type": "code",
   "execution_count": 854,
   "metadata": {},
   "outputs": [],
   "source": [
    "def h_inverse(z):#l'inverse de h\n",
    "    n = len(z)//3\n",
    "    liste_pi = []\n",
    "    for i in range(n):\n",
    "        p_i = construire_p_i(z, i)\n",
    "        liste_pi.append(p_i)\n",
    "    return np.array(liste_pi)"
   ]
  },
  {
   "cell_type": "code",
   "execution_count": 855,
   "metadata": {},
   "outputs": [
    {
     "data": {
      "text/plain": [
       "Text(0.5, 1.0, \"algo d'Arrow\")"
      ]
     },
     "execution_count": 855,
     "metadata": {},
     "output_type": "execute_result"
    },
    {
     "data": {
      "image/png": "[encoded data removed]",
      "text/plain": [
       "<Figure size 432x288 with 2 Axes>"
      ]
     },
     "metadata": {
      "needs_background": "light"
     },
     "output_type": "display_data"
    }
   ],
   "source": [
    "#affichage\n",
    "fig, axes = plt.subplots(2)\n",
    "listes_poses_2 = h_inverse(listes_poses_2)\n",
    "x1 = liste_poses_1[:,0]\n",
    "y1 = liste_poses_1[:,1]\n",
    "x2 = listes_poses_2[:,0]\n",
    "y2 = listes_poses_2[:,1]\n",
    "plt.xlim(-10,10)\n",
    "axes[0].plot(x1,y1)\n",
    "axes[1].plot(x2,y2)\n",
    "axes[0].set_title(\"Première approximation\")\n",
    "axes[1].set_title(\"algo d'Arrow\")"
   ]
  },
  {
   "cell_type": "markdown",
   "metadata": {},
   "source": [
    "Il y a manifestement une erreur dans le programme, mais nous n'avons pas réussi à la déceler."
   ]
  },
  {
   "cell_type": "markdown",
   "metadata": {},
   "source": [
    "## Nouvelle méthode:\n",
    "On va essayer d'utiliser Gauss Newton, en oubliant les contraintes qui à se ramener après à des angles dans $[-\\pi/2, \\pi/2]$:\n",
    "on  a :\n",
    "$$ f = \\sum_{i,j} {r_{i,j}^2}$$\n",
    ", où:\n",
    "$$r_{i,j} = \\left\\| p_i - R_j\\Delta_{i,j}p- p_j \\right\\|$$\n",
    "D'après les fonctions usuelles, de par un travail semblable à ce qui a été fait précédemment, on vérifie que $r_{i,j}$ est différentiable partout sauf en 0 et que:\n",
    "$$\\frac {\\partial r_{i,j}}{\\partial x_i} = x_i - R_j\\Delta_{i,j}p- p_j \\cdot e_1$$\n",
    "$$\\frac {\\partial r_{i,j}}{\\partial y_i} = y_i - R_j\\Delta_{i,j}p- p_j \\cdot e_2$$\n",
    "$$\\frac {\\partial r_{i,j}}{\\partial \\theta_i} = \\theta_i - R_j\\Delta_{i,j}p- p_j\\cdot e_3$$\n",
    "et en notant $B_{i,k}$ la k-ième colonne de B, et en utilisant la règle pour la différentielle d'une composée:\n",
    "\n",
    "$$\\frac {\\partial r_{i,j}}{\\partial x_j} =-x_j - R_j\\Delta_{i,j}p+ p_i \\cdot e_1$$\n",
    "$$\\frac {\\partial r_{i,j}}{\\partial y_j} =- y_j  - R_j\\Delta_{i,j}p+ p_i \\cdot e_2$$\n",
    "et enfin, en utilisant la règle de la chaîne:\n",
    "$$\\frac {\\partial r_{i,j}}{\\partial \\theta_j} = (p_i - R_j\\Delta_{i,j}p- p_j) \\cdot (\\dot R_j\\Delta_{i,j}p + ( 0 0 1)^t)$$\n"
   ]
  },
  {
   "cell_type": "markdown",
   "metadata": {},
   "source": []
  },
  {
   "cell_type": "code",
   "execution_count": 856,
   "metadata": {},
   "outputs": [],
   "source": [
    "def gradient_r(z,i,j, delta_i_j):\n",
    "    n = len(z)\n",
    "    res = np.zeros(n)\n",
    "    p_i = construire_p_i(z,i)\n",
    "    \n",
    "    p_j = construire_p_i(z,j)\n",
    "    \n",
    "    R_j = construire_Ri(p_j) \n",
    "   \n",
    "    alpha = np.array([0,0,1])\n",
    "    R_j_point = construire_Ri_point(p_j) \n",
    "    value = p_i - np.dot(R_j, delta_i_j) - p_j\n",
    "\n",
    "    d_dxi = value[0]\n",
    "    d_dyi = value[1]\n",
    "    d_dthetai =value[2]\n",
    "\n",
    "    d_dxj = d_dxi\n",
    "    d_dyj = d_dyi\n",
    "    temp = np.dot(R_j_point,delta_i_j) - alpha\n",
    "    d_dthetaj = np.dot(value, temp ) \n",
    "    \n",
    "    res[i-1] = d_dxi\n",
    "    res[j-1] = d_dxj\n",
    "    res[(n//3)+ i-1]= d_dyi\n",
    "    res[(n//3)+j-1]  = d_dyj\n",
    "    res[2*(n//3) +i-1] = d_dthetai\n",
    "    res[2*(n//3) +j-1] = d_dthetaj\n",
    "    return res\n",
    "\n",
    "\n",
    "    \n",
    "\n",
    "\n",
    "\n",
    "\n",
    "\n",
    "\n",
    "\n",
    "    "
   ]
  },
  {
   "cell_type": "code",
   "execution_count": 857,
   "metadata": {},
   "outputs": [],
   "source": [
    "def construire_J(z, E):\n",
    "    lignes = []\n",
    "    for (i,j, delta_i_j) in E:\n",
    "        grad = gradient_r(z, i, j, delta_i_j)\n",
    "        lignes.append(grad)\n",
    "    lignes = np.array(lignes)\n",
    "    return  lignes, np.transpose(lignes)\n",
    "    \n",
    "    \n"
   ]
  },
  {
   "cell_type": "code",
   "execution_count": 858,
   "metadata": {},
   "outputs": [],
   "source": [
    "def construire_E(liste_delta_pi_odo,  dico_boucle):#E est la liste des (i,j delta_i_j) qui apparaissent dans les sommes de f\n",
    "    E = []\n",
    "    n = len(liste_delta_pi_odo)\n",
    "    \n",
    "    for i in range (1,n):\n",
    "        E.append((i,i-1, liste_delta_pi_odo[i-1]))\n",
    "    for string in dico_delta_pi_boucle.keys():\n",
    "        string = string.split('->')\n",
    "        i = string[0]\n",
    "        j = string[1]\n",
    "        E.append( (int(i),int(j), dico_boucle[i+ '->'+ j]) )\n",
    "    return E\n",
    "\n"
   ]
  },
  {
   "cell_type": "code",
   "execution_count": 859,
   "metadata": {},
   "outputs": [],
   "source": [
    "def r_ij(z, i, j):\n",
    "    p_i = construire_p_i(z, i)\n",
    "    p_j = construire_p_i(z, j)\n",
    "    B_j = construire_Ri(p_j) + np.identity(3)\n",
    "    res = np.linalg.norm(p_i - np.dot(B_j, p_j))\n",
    "    return  res"
   ]
  },
  {
   "cell_type": "code",
   "execution_count": 860,
   "metadata": {},
   "outputs": [],
   "source": [
    "def r(z, E):\n",
    "    res = np.zeros(len(E))\n",
    "    compteur = 0\n",
    "    for (i,j) in E:\n",
    "        res[compteur] = r_ij(z, i, j)\n",
    "        compteur +=1\n",
    "    return res"
   ]
  },
  {
   "cell_type": "code",
   "execution_count": 861,
   "metadata": {},
   "outputs": [],
   "source": [
    "def Gauss_Newton(z0, liste_delta_pi_odo, dico_delta_pi_boucle,  seuil= 0.5, epsilon = 0.001,  pasmax = 100):\n",
    "    erreur = seuil +1 \n",
    "    n = len(liste_delta_pi_odo)\n",
    "    print(n)\n",
    "    l = np.array([0.5 for i in range (3*n)])\n",
    "    z =l\n",
    "    _lambda = np.zeros(2*n)\n",
    "    nombrepas = 0\n",
    "    E = construire_E(liste_delta_pi_odo,dico_delta_pi_boucle)\n",
    "    r_value = np.zeros(len(E))\n",
    "    while erreur > seuil and nombrepas < pasmax:\n",
    "        J, J_t = construire_J(z, E)\n",
    "        B = np.matmul(J_t, J)\n",
    "        B_inverse = np.linalg.inv(B)\n",
    "        r_value = r(z, E)\n",
    "        temp = np.dot(J_t, r_value )\n",
    "        print(nombrepas)\n",
    "        nombrepas +=1\n",
    "        \n",
    "        z = z - np.dot(B_inverse,temp )\n",
    "    return z\n",
    "        \n",
    "\n"
   ]
  },
  {
   "cell_type": "code",
   "execution_count": 862,
   "metadata": {},
   "outputs": [
    {
     "name": "stdout",
     "output_type": "stream",
     "text": [
      "1227\n"
     ]
    },
    {
     "ename": "LinAlgError",
     "evalue": "Singular matrix",
     "output_type": "error",
     "traceback": [
      "\u001b[1;31m---------------------------------------------------------------------------\u001b[0m",
      "\u001b[1;31mLinAlgError\u001b[0m                               Traceback (most recent call last)",
      "\u001b[1;32mc:\\Users\\stoll\\git\\opti\\opti.ipynb Cell 37'\u001b[0m in \u001b[0;36m<cell line: 2>\u001b[1;34m()\u001b[0m\n\u001b[0;32m      <a href='vscode-notebook-cell:/c%3A/Users/stoll/git/opti/opti.ipynb#ch0000036?line=0'>1</a>\u001b[0m z0 \u001b[39m=\u001b[39m h(liste_poses) \u001b[39m#on initialise le programme à la première approximation que l'on avait faite\u001b[39;00m\n\u001b[1;32m----> <a href='vscode-notebook-cell:/c%3A/Users/stoll/git/opti/opti.ipynb#ch0000036?line=1'>2</a>\u001b[0m Gauss_Newton(z0, liste_delta_pi_odo, dico_delta_pi_boucle, \u001b[39m0.1\u001b[39;49m)\n",
      "\u001b[1;32mc:\\Users\\stoll\\git\\opti\\opti.ipynb Cell 36'\u001b[0m in \u001b[0;36mGauss_Newton\u001b[1;34m(z0, liste_delta_pi_odo, dico_delta_pi_boucle, seuil, epsilon, pasmax)\u001b[0m\n\u001b[0;32m     <a href='vscode-notebook-cell:/c%3A/Users/stoll/git/opti/opti.ipynb#ch0000035?line=11'>12</a>\u001b[0m J, J_t \u001b[39m=\u001b[39m construire_J(z, E)\n\u001b[0;32m     <a href='vscode-notebook-cell:/c%3A/Users/stoll/git/opti/opti.ipynb#ch0000035?line=12'>13</a>\u001b[0m B \u001b[39m=\u001b[39m np\u001b[39m.\u001b[39mmatmul(J_t, J)\n\u001b[1;32m---> <a href='vscode-notebook-cell:/c%3A/Users/stoll/git/opti/opti.ipynb#ch0000035?line=13'>14</a>\u001b[0m B_inverse \u001b[39m=\u001b[39m np\u001b[39m.\u001b[39;49mlinalg\u001b[39m.\u001b[39;49minv(B)\n\u001b[0;32m     <a href='vscode-notebook-cell:/c%3A/Users/stoll/git/opti/opti.ipynb#ch0000035?line=14'>15</a>\u001b[0m r_value \u001b[39m=\u001b[39m r(z, E)\n\u001b[0;32m     <a href='vscode-notebook-cell:/c%3A/Users/stoll/git/opti/opti.ipynb#ch0000035?line=15'>16</a>\u001b[0m temp \u001b[39m=\u001b[39m np\u001b[39m.\u001b[39mdot(J_t, r_value )\n",
      "File \u001b[1;32m<__array_function__ internals>:5\u001b[0m, in \u001b[0;36minv\u001b[1;34m(*args, **kwargs)\u001b[0m\n",
      "File \u001b[1;32mc:\\Python310\\lib\\site-packages\\numpy\\linalg\\linalg.py:545\u001b[0m, in \u001b[0;36minv\u001b[1;34m(a)\u001b[0m\n\u001b[0;32m    <a href='file:///c%3A/Python310/lib/site-packages/numpy/linalg/linalg.py?line=542'>543</a>\u001b[0m signature \u001b[39m=\u001b[39m \u001b[39m'\u001b[39m\u001b[39mD->D\u001b[39m\u001b[39m'\u001b[39m \u001b[39mif\u001b[39;00m isComplexType(t) \u001b[39melse\u001b[39;00m \u001b[39m'\u001b[39m\u001b[39md->d\u001b[39m\u001b[39m'\u001b[39m\n\u001b[0;32m    <a href='file:///c%3A/Python310/lib/site-packages/numpy/linalg/linalg.py?line=543'>544</a>\u001b[0m extobj \u001b[39m=\u001b[39m get_linalg_error_extobj(_raise_linalgerror_singular)\n\u001b[1;32m--> <a href='file:///c%3A/Python310/lib/site-packages/numpy/linalg/linalg.py?line=544'>545</a>\u001b[0m ainv \u001b[39m=\u001b[39m _umath_linalg\u001b[39m.\u001b[39;49minv(a, signature\u001b[39m=\u001b[39;49msignature, extobj\u001b[39m=\u001b[39;49mextobj)\n\u001b[0;32m    <a href='file:///c%3A/Python310/lib/site-packages/numpy/linalg/linalg.py?line=545'>546</a>\u001b[0m \u001b[39mreturn\u001b[39;00m wrap(ainv\u001b[39m.\u001b[39mastype(result_t, copy\u001b[39m=\u001b[39m\u001b[39mFalse\u001b[39;00m))\n",
      "File \u001b[1;32mc:\\Python310\\lib\\site-packages\\numpy\\linalg\\linalg.py:88\u001b[0m, in \u001b[0;36m_raise_linalgerror_singular\u001b[1;34m(err, flag)\u001b[0m\n\u001b[0;32m     <a href='file:///c%3A/Python310/lib/site-packages/numpy/linalg/linalg.py?line=86'>87</a>\u001b[0m \u001b[39mdef\u001b[39;00m \u001b[39m_raise_linalgerror_singular\u001b[39m(err, flag):\n\u001b[1;32m---> <a href='file:///c%3A/Python310/lib/site-packages/numpy/linalg/linalg.py?line=87'>88</a>\u001b[0m     \u001b[39mraise\u001b[39;00m LinAlgError(\u001b[39m\"\u001b[39m\u001b[39mSingular matrix\u001b[39m\u001b[39m\"\u001b[39m)\n",
      "\u001b[1;31mLinAlgError\u001b[0m: Singular matrix"
     ]
    }
   ],
   "source": [
    "z0 = h(liste_poses) #on initialise le programme à la première approximation que l'on avait faite\n",
    "Gauss_Newton(z0, liste_delta_pi_odo, dico_delta_pi_boucle, 0.1)"
   ]
  },
  {
   "cell_type": "markdown",
   "metadata": {},
   "source": [
    "On tombe sur une matrice non inversible, il y a une erreur"
   ]
  },
  {
   "cell_type": "markdown",
   "metadata": {},
   "source": []
  },
  {
   "cell_type": "markdown",
   "metadata": {},
   "source": []
  },
  {
   "cell_type": "markdown",
   "metadata": {},
   "source": []
  },
  {
   "cell_type": "markdown",
   "metadata": {},
   "source": []
  },
  {
   "cell_type": "markdown",
   "metadata": {},
   "source": []
  },
  {
   "cell_type": "markdown",
   "metadata": {},
   "source": []
  },
  {
   "cell_type": "markdown",
   "metadata": {},
   "source": []
  },
  {
   "cell_type": "markdown",
   "metadata": {},
   "source": []
  },
  {
   "cell_type": "markdown",
   "metadata": {},
   "source": []
  },
  {
   "cell_type": "markdown",
   "metadata": {},
   "source": []
  },
  {
   "cell_type": "markdown",
   "metadata": {},
   "source": []
  }
 ],
 "metadata": {
  "interpreter": {
   "hash": "369f2c481f4da34e4445cda3fffd2e751bd1c4d706f27375911949ba6bb62e1c"
  },
  "kernelspec": {
   "display_name": "Python 3.10.2 64-bit",
   "language": "python",
   "name": "python3"
  },
  "language_info": {
   "codemirror_mode": {
    "name": "ipython",
    "version": 3
   },
   "file_extension": ".py",
   "mimetype": "text/x-python",
   "name": "python",
   "nbconvert_exporter": "python",
   "pygments_lexer": "ipython3",
   "version": "3.10.2"
  },
  "orig_nbformat": 4
 },
 "nbformat": 4,
 "nbformat_minor": 2
}
