{
 "cells": [
  {
   "cell_type": "code",
   "execution_count": 66,
   "metadata": {},
   "outputs": [],
   "source": [
    "import numpy as np\n",
    "import matplotlib.pyplot as plt"
   ]
  },
  {
   "cell_type": "markdown",
   "metadata": {},
   "source": [
    "### Definition du problème\n",
    "Soit $\\begin{array}{ccccc}\n",
    "g & : & (\\R^3)^n & \\to & R \\\\\n",
    " & & (p_1, ..., p_n) & \\mapsto &  \\sum_i {\\lVert p_{i+1} - R_i p_i - p_i\\rVert} + \\gamma \\sum_{i,j} {\\lVert p_{i} - R_j p_j - p_j\\rVert} \\\\\n",
    "\\end{array}$\n",
    "Avec la notation :$$ \\forall i \\in [1,n], p_i = \\begin{pmatrix}\n",
    "x_i \\\\[3mm]\n",
    "y_i \\\\[3mm]\n",
    "\\theta_i \\\\\n",
    "\\end{pmatrix}$$\n",
    "on peut définir la fonction $f$ par:\n",
    "$\\begin{array}{ccccc}\n",
    "g & : & (\\R)^{3n} & \\to & R \\\\\n",
    " & & (x_1,...,x_n,y_1,..., y_n, \\theta_1,..., \\theta_n) & \\mapsto &  \\sum_i {\\lVert p_{i+1} - R_i p_i - p_i\\rVert} + \\gamma \\sum_{i,j} {\\lVert p_{i} - R_j p_j - p_j\\rVert} \\\\\n",
    "\\end{array}$\n",
    "On notera $(e_i)_{i \\in [1,3]}$ la base canonique de $\\R^3$ et $(b_i)_{i \\in [1,3n]}$ celle de $R^{3n}$\n",
    "Ainsi, en définissant l'isomorphisme $h$ par:\n",
    "$\\begin{array}{ccccc}\n",
    "h & : & (\\R^3)^n & \\to &(\\R)^{3n} \\\\\n",
    " & & x & \\mapsto & \\sum_i {\\sum_j {(x \\cdot e_j) b_{nj + i}}} \\\\\n",
    "\\end{array}$, c'est à dire l'isomorphisme vérifiant, avec les notations précédentes $$\\forall (p_1, ..., p_n) \\in (\\R^3)^n, h(p_1, ..., p_n) = (x_1,...,x_n,y_1,..., y_n, \\theta_1,..., \\theta_n) $$, on a ainsi:\n",
    "$$ g = f \\circ h$$\n",
    "Minimiser g revient donc, à l'isomorphisme h près, à minimiser f.\n",
    "On s'intéressera par la suite préférentiellement à la fonction f, car la forme de son argument s'inscrit mieux dans le cadre du cours, et on pourra calculer son gradient.\n",
    "\n",
    "\n"
   ]
  },
  {
   "cell_type": "markdown",
   "metadata": {},
   "source": [
    "## Contraintes:\n",
    "Intéressons nous maintenant aux contraintes. \n",
    "Les contraintes du problèmes sont :\n",
    "$$\\forall i \\in [1,n], \\left\\{   \\begin{array}{ll}\n",
    "        \\theta_i - \\frac {pi}{2} <0 \\\\\n",
    "        -\\theta_i - \\frac {pi}{2}<0\n",
    "    \\end{array}\n",
    "\\right.$$\n",
    "On définit les fonctions $c_{i,k}$ par, avec les notations précédentes,\n",
    "$$\\forall i,k \\in [1,n] x [0,1], \\forall z in \\R^{3n},  c_{i,k}(z) = (z \\cdot b_{2n + i}) - \\frac {pi}{2}$$\n",
    "On peut alors définir le vecteur de fonctions $c$ tel que :\n",
    "$$c = \\begin {pmatrix}\n",
    "    c_{1,0} \\\\\n",
    "    c_{1,1} \\\\\n",
    "    ... \\\\\n",
    "    c_{n,0} \\\\\n",
    "    c_{n,1} \n",
    "\n",
    "    \\end {pmatrix}$$\n",
    "Les contraintes se réecrivent donc mathématiquement par : $$c(z) <0$$"
   ]
  },
  {
   "cell_type": "markdown",
   "metadata": {},
   "source": [
    "On va donc rechercher la solution du problème d'optimisation sous contraintes:\n",
    "$$\\left\\{\n",
    " \\begin {array}{ll}\n",
    " \\min_{z \\in R^{3n}} \\\\\n",
    " c(z) < 0\n",
    " \\end {array}\n",
    " \\right.$$"
   ]
  },
  {
   "cell_type": "markdown",
   "metadata": {},
   "source": [
    "## Etude de la convexité des fonctions:\n",
    "On va étudier d'abord la fonction $f$.\n",
    "On définit:\n",
    "$$\\forall i,p_j \\in [1,n] * \\R^3, \n",
    "\\begin{array}{ccccc}\n",
    "k_i & : & (\\R^3) & \\to & R \\\\\n",
    " & & (x_i, y_i,\\theta_i) & \\mapsto &  \\lVert p_{i} - R_j p_j - p_j\\rVert\\\\\n",
    "\\end{array}$$\n",
    "Alors, en tant que composée de fonctions usuelles, $k_i$ est différentiable infiniment partout sauf en 0.\n",
    "De plus, en mettant cette fonction sous la forme d'un produit scalaire, on s'aperçoit que, partout où elle est définie:\n",
    "$$ sym(\\nabla^2 k_{i,j}) =  I_3$$\n",
    "\n",
    "\n",
    "$f$ est donc convexe.\n",
    "Intéressons nous maintenant aux contraintes.\n",
    "Soit $i,k \\in [1,n] * [0,1]$\n",
    "$$c_{i,k}$$\n",
    " est évidemment convexe, puisque elle est deux fois différentiable et que sa hessienne est nulle partout.\n",
    "Donc, le vecteur  des contrainte $c$ est bien convexe.\n",
    "De plus, en évaluant c en 0, on se rend compte que $$c(0)<0$$, car $- \\frac {\\pi}{2} < 0 < \\frac {\\pi}{2}$ \n",
    "\n",
    "\n"
   ]
  },
  {
   "cell_type": "markdown",
   "metadata": {},
   "source": [
    "## Existence  d'une solution au pb:\n",
    "Soit $X$ l'ensemble des abscisses du bureau et $Y$ l'ensemble de ses ordonnées. $X$ et $Y$ sont donc fermés et bornés. En notant $\\Theta = [-\\frac {\\pi}{2}, \\frac {\\pi}{2}]$, lui aussi un ensemble fermé et borné, on a donc:\n",
    "$$ E = X * Y * \\Theta \\in R^{3n}$$\n",
    "$E$ est donc borné et fermé en tant que produit cartésien de tels ensembles.\n",
    "On a vu que la fonction f est continue sur $\\R^3$. Or, on peut se ramener à chercher le minimum de f sur E et non $R^3$, car on se place à l'intérieur des bureaux pour l'étude.\n",
    "$E$ étant fermé et borné dans un espace de dimension finie, c'est un compact.\n",
    "f étant continue, l'existence du minimum en découle.\n"
   ]
  },
  {
   "cell_type": "code",
   "execution_count": 68,
   "metadata": {},
   "outputs": [],
   "source": [
    "#Récupération des données:\n",
    "liste_delta_pi_odo = []\n",
    "dico_delta_pi_boucle = {}\n",
    "fichier = open('INTEL.txt')\n",
    "lines = fichier.readlines()\n",
    "for line in lines:\n",
    "        line = line.split(' ')\n",
    "        categorie = line[0]\n",
    "        i = int(line[1])\n",
    "        i_suivant = int(line[2])\n",
    "        dx = float(line[3])\n",
    "        dy = float(line[4])\n",
    "        dtheta = float(line[5]) \n",
    "        odo = np.array((dx, dy, dtheta))\n",
    "\n",
    "        if categorie == 'EDGE_ODO':\n",
    "            liste_delta_pi_odo.append(odo)\n",
    "        else :\n",
    "            dico_delta_pi_boucle[str(i) + '->' + str(i_suivant)] = odo\n",
    "             \n",
    "\n",
    "    "
   ]
  },
  {
   "cell_type": "code",
   "execution_count": 69,
   "metadata": {},
   "outputs": [],
   "source": [
    "def construire_Ri(p):\n",
    "    theta = p[2]\n",
    "    cos_theta = np.cos(theta)\n",
    "    sin_theta = np.sin(theta)\n",
    "    Ri = np.array([cos_theta, -sin_theta, 0, sin_theta, cos_theta, 0, 0,0,1])\n",
    "    Ri = Ri.reshape(3,3)\n",
    "    return Ri\n"
   ]
  },
  {
   "cell_type": "code",
   "execution_count": 84,
   "metadata": {},
   "outputs": [],
   "source": [
    "def premiere_estimation_odo(liste_delta_pi_odo):\n",
    "    n = len(liste_delta_pi_odo)\n",
    "    p0 = np.array( (0, 0, 0) )\n",
    "    listes_p = [p0]\n",
    "    for i in range(n):\n",
    "        p_prec = listes_p[-1]\n",
    "        Ri = construire_Ri(p_prec)\n",
    "        p_suiv = p_prec + Ri.dot(liste_delta_pi_odo[i])\n",
    "        listes_p.append(p_suiv)\n",
    "    return np.array(listes_p)"
   ]
  },
  {
   "cell_type": "code",
   "execution_count": 85,
   "metadata": {},
   "outputs": [],
   "source": [
    "liste_poses = premiere_estimation_odo(liste_delta_pi_odo)"
   ]
  },
  {
   "cell_type": "code",
   "execution_count": 86,
   "metadata": {},
   "outputs": [
    {
     "data": {
      "text/plain": [
       "[<matplotlib.lines.Line2D at 0x2aa914370d0>]"
      ]
     },
     "execution_count": 86,
     "metadata": {},
     "output_type": "execute_result"
    },
    {
     "data": {
      "image/png": "[encoded data removed]",
      "text/plain": [
       "<Figure size 432x288 with 1 Axes>"
      ]
     },
     "metadata": {
      "needs_background": "light"
     },
     "output_type": "display_data"
    }
   ],
   "source": [
    "#affichage\n",
    "x = liste_poses[:,0]\n",
    "y = liste_poses[:,1]\n",
    "plt.plot(x,y)"
   ]
  },
  {
   "cell_type": "markdown",
   "metadata": {},
   "source": [
    "On remarque que l'on parvient bien à une image qui ressemble vaguement aux bureaux d'Intel, mais qui manque de précision. Il va donc nous falloir corriger cela grâce aux données de bouclage et à l'utilisation d'algorithmes d'optimisation."
   ]
  },
  {
   "cell_type": "code",
   "execution_count": null,
   "metadata": {},
   "outputs": [],
   "source": []
  }
 ],
 "metadata": {
  "interpreter": {
   "hash": "2be5faf79681da6f2a61fdfdd5405d65d042280f7fba6178067603e3a2925119"
  },
  "kernelspec": {
   "display_name": "Python 3.10.2 64-bit",
   "language": "python",
   "name": "python3"
  },
  "language_info": {
   "codemirror_mode": {
    "name": "ipython",
    "version": 3
   },
   "file_extension": ".py",
   "mimetype": "text/x-python",
   "name": "python",
   "nbconvert_exporter": "python",
   "pygments_lexer": "ipython3",
   "version": "3.10.2"
  },
  "orig_nbformat": 4
 },
 "nbformat": 4,
 "nbformat_minor": 2
}
